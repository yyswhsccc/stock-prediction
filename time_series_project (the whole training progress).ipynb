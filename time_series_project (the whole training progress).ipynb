{
  "cells": [
    {
      "cell_type": "code",
      "execution_count": 1,
      "metadata": {
        "colab": {
          "base_uri": "https://localhost:8080/"
        },
        "id": "HB8-o3AESWHE",
        "outputId": "db9dcf95-a761-47f2-bdc8-7e581ba4c602"
      },
      "outputs": [
        {
          "name": "stdout",
          "output_type": "stream",
          "text": [
            "No NaN values found after scaling.\n",
            "       Date      Open      High       Low     Close  Adj Close    Volume  \\\n",
            "0  2/1/2002 -0.749353 -0.749194 -0.749052 -0.749165  -0.725538  0.016423   \n",
            "1  2/4/2002 -0.749360 -0.749012 -0.749099 -0.748857  -0.725276  0.340033   \n",
            "2  2/5/2002 -0.749107 -0.748863 -0.748807 -0.748824  -0.725248  0.169223   \n",
            "3  2/6/2002 -0.748940 -0.748863 -0.749115 -0.749080  -0.725466  0.536186   \n",
            "4  2/7/2002 -0.749252 -0.749087 -0.749139 -0.749201  -0.725569 -0.115227   \n",
            "\n",
            "     SMA_20    EMA_12    EMA_26    RSI_14      MACD  MACD_Signal  BB_Middle  \\\n",
            "0 -0.748218 -0.748809 -0.748123  0.949177 -0.157863    -0.172247  -0.748218   \n",
            "1 -0.748190 -0.748706 -0.748057  1.106727 -0.156300    -0.171278  -0.748190   \n",
            "2 -0.748148 -0.748614 -0.747993  1.026473 -0.155090    -0.170246  -0.748148   \n",
            "3 -0.748114 -0.748576 -0.747953  1.101549 -0.155151    -0.169434  -0.748114   \n",
            "4 -0.748070 -0.748562 -0.747925  0.484545 -0.155749    -0.168911  -0.748070   \n",
            "\n",
            "   BB_Upper  BB_Lower      VWAP  \n",
            "0 -0.749149 -0.746401 -0.749158  \n",
            "1 -0.749039 -0.746466 -0.749009  \n",
            "2 -0.748912 -0.746519 -0.748852  \n",
            "3 -0.748845 -0.746523 -0.749039  \n",
            "4 -0.748804 -0.746476 -0.749163  \n",
            "Shapes of datasets:\n",
            "X_train_full: torch.Size([4947, 100, 16])\n",
            "X_test: torch.Size([550, 100, 16])\n",
            "X_train: torch.Size([3957, 100, 16])\n",
            "X_val: torch.Size([990, 100, 16])\n",
            "Total length of train_full and test: 5497\n",
            "Expected total length: 5497\n",
            "Last batch size in test set: 2\n",
            "validation dates: 3957    10/19/2017\n",
            "3958    10/20/2017\n",
            "3959    10/23/2017\n",
            "3960    10/24/2017\n",
            "3961    10/25/2017\n",
            "           ...    \n",
            "4942     9/20/2021\n",
            "4943     9/21/2021\n",
            "4944     9/22/2021\n",
            "4945     9/23/2021\n",
            "4946     9/24/2021\n",
            "Name: Date, Length: 990, dtype: object\n",
            "test dates: 4947    9/27/2021\n",
            "4948    9/28/2021\n",
            "4949    9/29/2021\n",
            "4950    9/30/2021\n",
            "4951    10/1/2021\n",
            "          ...    \n",
            "5592    4/22/2024\n",
            "5593    4/23/2024\n",
            "5594    4/24/2024\n",
            "5595    4/25/2024\n",
            "5596    4/26/2024\n",
            "Name: Date, Length: 650, dtype: object\n",
            "testing set: 550\n",
            "training set: 3957\n",
            "validation set: 990\n",
            "Columns with NaN: []\n",
            "Rows with NaN:\n",
            "Empty DataFrame\n",
            "Columns: [Date, Open, High, Low, Close, Adj Close, Volume, SMA_20, EMA_12, EMA_26, RSI_14, MACD, MACD_Signal, BB_Middle, BB_Upper, BB_Lower, VWAP]\n",
            "Index: []\n"
          ]
        }
      ],
      "source": [
        "import pandas as pd\n",
        "from sklearn.model_selection import train_test_split\n",
        "from sklearn.preprocessing import MinMaxScaler\n",
        "import numpy as np\n",
        "import torch\n",
        "from sklearn.preprocessing import StandardScaler\n",
        "\n",
        "\n",
        "data_path = '2002-02-01.csv'\n",
        "df = pd.read_csv(data_path, header=0)\n",
        "\n",
        "df.fillna(method='ffill', inplace=True)\n",
        "df.fillna(method='bfill', inplace=True)\n",
        "df.dropna(inplace=True)\n",
        "\n",
        "for col in df.columns[1:]:\n",
        "    df[col] = df[col].astype(float)\n",
        "\n",
        "scaler_X = StandardScaler()\n",
        "scaler_y = StandardScaler()\n",
        "\n",
        "features_to_scale = df.columns[2:]\n",
        "df[features_to_scale] = scaler_X.fit_transform(df[features_to_scale])\n",
        "\n",
        "df[['Open']] = scaler_y.fit_transform(df[['Open']])\n",
        "\n",
        "if df.isnull().values.any():\n",
        "    print(\"NaN values introduced after scaling.\")\n",
        "else:\n",
        "    print(\"No NaN values found after scaling.\")\n",
        "\n",
        "print(df.head())\n",
        "\n",
        "def create_sequences(data, seq_length):\n",
        "    xs = []\n",
        "    ys = []\n",
        "    for i in range(len(data) - seq_length):\n",
        "        x = data.iloc[i:(i + seq_length), 1:].to_numpy()\n",
        "        y = data.iloc[i + seq_length, 1]\n",
        "        if not np.isnan(x).any() and np.isfinite(y):\n",
        "            xs.append(x)\n",
        "            ys.append(y)\n",
        "    return np.array(xs), np.array(ys)\n",
        "\n",
        "seq_length = 100\n",
        "\n",
        "X, y = create_sequences(df, seq_length)\n",
        "X = torch.tensor(X, dtype=torch.float32)\n",
        "y = torch.tensor(y, dtype=torch.float32)\n",
        "\n",
        "\n",
        "assert not np.isnan(X).any() and not np.isnan(y).any(), \"NaN values found in sequences\"\n",
        "\n",
        "X_train_full, X_test, y_train_full, y_test = train_test_split(X, y, test_size=0.1, random_state=42, shuffle=False)\n",
        "X_train, X_val, y_train, y_val = train_test_split(X_train_full, y_train_full, test_size=0.2, random_state=42, shuffle=False)\n",
        "\n",
        "print(\"Shapes of datasets:\")\n",
        "print(\"X_train_full:\", X_train_full.shape)\n",
        "print(\"X_test:\", X_test.shape)\n",
        "print(\"X_train:\", X_train.shape)\n",
        "print(\"X_val:\", X_val.shape)\n",
        "\n",
        "total_length = X_train_full.shape[0] + X_test.shape[0]\n",
        "expected_length = X.shape[0]\n",
        "print(\"Total length of train_full and test:\", total_length)\n",
        "print(\"Expected total length:\", expected_length)\n",
        "\n",
        "last_batch_size = len(X_test) % 4\n",
        "print(\"Last batch size in test set:\", last_batch_size)\n",
        "\n",
        "val_start_index = len(X) - len(X_test) - len(X_val)\n",
        "val_end_index = val_start_index + len(X_val)\n",
        "validation_dates = df['Date'].iloc[val_start_index:val_end_index]\n",
        "print(\"validation dates:\",validation_dates)\n",
        "\n",
        "test_start_index = len(X) - len(X_test)\n",
        "test_dates = df['Date'].iloc[test_start_index:]\n",
        "print(\"test dates:\",test_dates)\n",
        "\n",
        "df.replace([np.inf, -np.inf], np.nan, inplace=True)\n",
        "\n",
        "df.fillna(method='ffill', inplace=True)\n",
        "df.fillna(method='bfill', inplace=True)\n",
        "\n",
        "assert not df.isnull().any().any(), \"Data still contains NaN after all replacements.\"\n",
        "# assert not np.isinf(df.values).any(), \"Data contains infinity after all replacements.\"\n",
        "\n",
        "df.to_csv('/Users/s/Downloads/time_series_apple/AI6123_Time_Series_Assignment_3 (Answer to part 1)/APPL_after_feature_engineering_and_cleaning.csv', index=False)\n",
        "\n",
        "print(\"testing set:\",len(X_test))\n",
        "print(\"training set:\",len(X_train))\n",
        "print(\"validation set:\",len(X_val))\n",
        "\n",
        "# find columns with NaN values\n",
        "nan_columns = df.columns[df.isna().any()].tolist()\n",
        "print(f\"Columns with NaN: {nan_columns}\")\n",
        "\n",
        "# find rows with NaN values\n",
        "nan_rows = df[df.isna().any(axis=1)]\n",
        "print(f\"Rows with NaN:\\n{nan_rows}\")"
      ]
    },
    {
      "cell_type": "code",
      "execution_count": 3,
      "metadata": {
        "colab": {
          "base_uri": "https://localhost:8080/"
        },
        "id": "A8bvH0Wd4Hhb",
        "outputId": "41cd32c9-9190-4594-fae9-db295ac8aae8"
      },
      "outputs": [
        {
          "data": {
            "text/plain": [
              "StockPredictor(\n",
              "  (lstm): LSTM(16, 128, num_layers=3, batch_first=True, dropout=0.2, bidirectional=True)\n",
              "  (attention): Attention()\n",
              "  (linear1): Linear(in_features=256, out_features=64, bias=True)\n",
              "  (linear2): Linear(in_features=64, out_features=32, bias=True)\n",
              "  (linear3): Linear(in_features=32, out_features=1, bias=True)\n",
              "  (residual_layer): Linear(in_features=16, out_features=256, bias=True)\n",
              ")"
            ]
          },
          "execution_count": 3,
          "metadata": {},
          "output_type": "execute_result"
        }
      ],
      "source": [
        "import torch\n",
        "import torch.nn as nn\n",
        "import numpy as np\n",
        "import pandas as pd\n",
        "from sklearn.preprocessing import MinMaxScaler\n",
        "from torch.utils.data import DataLoader, TensorDataset\n",
        "import torch.nn.functional as F\n",
        "\n",
        "class Attention(nn.Module):\n",
        "    def __init__(self, n_hidden):\n",
        "        super(Attention, self).__init__()\n",
        "        self.attention_weights = nn.Parameter(torch.Tensor(n_hidden, n_hidden))\n",
        "        nn.init.xavier_uniform_(self.attention_weights.data, gain=1.414)\n",
        "\n",
        "    def forward(self, lstm_out):\n",
        "        attn_scores = torch.matmul(lstm_out, self.attention_weights)\n",
        "        attn_weights = nn.functional.softmax(attn_scores, dim=2)\n",
        "        weighted_sum = torch.sum(attn_weights * lstm_out, dim=1)\n",
        "        return weighted_sum\n",
        "\n",
        "class StockPredictor(nn.Module):\n",
        "    def __init__(self, n_features, n_hidden, seq_len, n_layers=2):\n",
        "        super(StockPredictor, self).__init__()\n",
        "        self.n_hidden = n_hidden\n",
        "        self.seq_len = seq_len\n",
        "        self.n_layers = n_layers\n",
        "        self.lstm = nn.LSTM(\n",
        "            input_size=n_features,\n",
        "            hidden_size=n_hidden,\n",
        "            num_layers=n_layers,\n",
        "            dropout=0.2,\n",
        "            batch_first=True,\n",
        "            bidirectional=True\n",
        "        )\n",
        "        self.attention = Attention(n_hidden * 2)\n",
        "        self.linear1 = nn.Linear(in_features=n_hidden * 2, out_features=64)\n",
        "        self.linear2 = nn.Linear(in_features=64, out_features=32)  # 新的全连接层\n",
        "        self.linear3 = nn.Linear(in_features=32, out_features=1)\n",
        "        self.residual_layer = nn.Linear(n_features, n_hidden * 2)  # 与 attn_output 匹配\n",
        "\n",
        "    def forward(self, sequences):\n",
        "        lstm_out, _ = self.lstm(sequences)\n",
        "        attn_output = self.attention(lstm_out)\n",
        "        residual = self.residual_layer(sequences[:, -1, :])\n",
        "        combined_output = attn_output + residual  # 两个张量形状匹配\n",
        "        y_pred = self.linear1(combined_output)\n",
        "        y_pred = self.linear2(y_pred)  # 经过新的全连接层\n",
        "        y_pred = self.linear3(y_pred)\n",
        "        return y_pred\n",
        "\n",
        "import torch.nn.init as init\n",
        "\n",
        "def init_weights(m):\n",
        "    if type(m) == nn.Linear:\n",
        "        init.kaiming_normal_(m.weight)\n",
        "        m.bias.data.fill_(0.01)\n",
        "    elif type(m) == nn.LSTM:\n",
        "        for name, param in m.named_parameters():\n",
        "            if 'weight_ih' in name:\n",
        "                init.xavier_uniform_(param.data)\n",
        "            elif 'weight_hh' in name:\n",
        "                init.orthogonal_(param.data)\n",
        "            elif 'bias' in name:\n",
        "                param.data.fill_(0)\n",
        "\n",
        "model = StockPredictor(\n",
        "    n_features=16,   # 根据输入特征数量调整\n",
        "    n_hidden=128,\n",
        "    seq_len=seq_length,\n",
        "    n_layers=3\n",
        ")\n",
        "\n",
        "# model = StockPredictor(n_features=16, n_hidden=64, seq_len=seq_length, n_layers=1)\n",
        "\n",
        "model.apply(init_weights)"
      ]
    },
    {
      "cell_type": "code",
      "execution_count": 4,
      "metadata": {
        "colab": {
          "base_uri": "https://localhost:8080/"
        },
        "id": "8-q8QITcULSU",
        "outputId": "8364515a-d478-4699-c9df-b65a3dfb3050"
      },
      "outputs": [
        {
          "name": "stdout",
          "output_type": "stream",
          "text": [
            "cuda\n"
          ]
        }
      ],
      "source": [
        "device = torch.device(\"cuda\" if torch.cuda.is_available() else \"cpu\")\n",
        "print(device)"
      ]
    },
    {
      "cell_type": "code",
      "execution_count": 5,
      "metadata": {
        "colab": {
          "base_uri": "https://localhost:8080/",
          "height": 1000
        },
        "id": "kCeeYjnDbagB",
        "outputId": "f3984134-917c-4213-dec2-47f35ac5fc3e"
      },
      "outputs": [
        {
          "name": "stderr",
          "output_type": "stream",
          "text": [
            "<ipython-input-5-463d63db8865>:61: UserWarning: To copy construct from a tensor, it is recommended to use sourceTensor.clone().detach() or sourceTensor.clone().detach().requires_grad_(True), rather than torch.tensor(sourceTensor).\n",
            "  X_train = torch.tensor(X_train, dtype=torch.float32).to(device)\n",
            "<ipython-input-5-463d63db8865>:62: UserWarning: To copy construct from a tensor, it is recommended to use sourceTensor.clone().detach() or sourceTensor.clone().detach().requires_grad_(True), rather than torch.tensor(sourceTensor).\n",
            "  y_train = torch.tensor(y_train, dtype=torch.float32).unsqueeze(1).to(device)\n",
            "<ipython-input-5-463d63db8865>:63: UserWarning: To copy construct from a tensor, it is recommended to use sourceTensor.clone().detach() or sourceTensor.clone().detach().requires_grad_(True), rather than torch.tensor(sourceTensor).\n",
            "  X_val = torch.tensor(X_val, dtype=torch.float32).to(device)\n",
            "<ipython-input-5-463d63db8865>:64: UserWarning: To copy construct from a tensor, it is recommended to use sourceTensor.clone().detach() or sourceTensor.clone().detach().requires_grad_(True), rather than torch.tensor(sourceTensor).\n",
            "  y_val = torch.tensor(y_val, dtype=torch.float32).unsqueeze(1).to(device)\n",
            "Training Progress:   2%|▏         | 1/50 [00:13<10:55, 13.37s/it]"
          ]
        },
        {
          "name": "stdout",
          "output_type": "stream",
          "text": [
            "Epoch 1/50, Train Loss: 0.2288, Val Loss: 0.1854\n",
            "Learning Rate adjusted to: 1e-05\n",
            "Model improved and saved as 20240502103925_epoch_1_val_loss_0.1854.pt\n"
          ]
        },
        {
          "name": "stderr",
          "output_type": "stream",
          "text": [
            "Training Progress:   4%|▍         | 2/50 [00:25<10:17, 12.86s/it]"
          ]
        },
        {
          "name": "stdout",
          "output_type": "stream",
          "text": [
            "Epoch 2/50, Train Loss: 0.0174, Val Loss: 0.1207\n",
            "Learning Rate adjusted to: 1e-05\n",
            "Model improved and saved as 20240502103938_epoch_2_val_loss_0.1207.pt\n"
          ]
        },
        {
          "name": "stderr",
          "output_type": "stream",
          "text": [
            "Training Progress:   6%|▌         | 3/50 [00:38<09:58, 12.73s/it]"
          ]
        },
        {
          "name": "stdout",
          "output_type": "stream",
          "text": [
            "Epoch 3/50, Train Loss: 0.0122, Val Loss: 0.0755\n",
            "Learning Rate adjusted to: 1e-05\n",
            "Model improved and saved as 20240502103950_epoch_3_val_loss_0.0755.pt\n"
          ]
        },
        {
          "name": "stderr",
          "output_type": "stream",
          "text": [
            "Training Progress:   8%|▊         | 4/50 [00:50<09:40, 12.63s/it]"
          ]
        },
        {
          "name": "stdout",
          "output_type": "stream",
          "text": [
            "Epoch 4/50, Train Loss: 0.0098, Val Loss: 0.0760\n",
            "Learning Rate adjusted to: 1e-05\n"
          ]
        },
        {
          "name": "stderr",
          "output_type": "stream",
          "text": [
            "Training Progress:  10%|█         | 5/50 [01:03<09:27, 12.60s/it]"
          ]
        },
        {
          "name": "stdout",
          "output_type": "stream",
          "text": [
            "Epoch 5/50, Train Loss: 0.0086, Val Loss: 0.0629\n",
            "Learning Rate adjusted to: 1e-05\n",
            "Model improved and saved as 20240502104015_epoch_5_val_loss_0.0629.pt\n"
          ]
        },
        {
          "name": "stderr",
          "output_type": "stream",
          "text": [
            "Training Progress:  12%|█▏        | 6/50 [01:16<09:13, 12.58s/it]"
          ]
        },
        {
          "name": "stdout",
          "output_type": "stream",
          "text": [
            "Epoch 6/50, Train Loss: 0.0082, Val Loss: 0.0532\n",
            "Learning Rate adjusted to: 1e-05\n",
            "Model improved and saved as 20240502104028_epoch_6_val_loss_0.0532.pt\n"
          ]
        },
        {
          "name": "stderr",
          "output_type": "stream",
          "text": [
            "Training Progress:  14%|█▍        | 7/50 [01:28<08:59, 12.56s/it]"
          ]
        },
        {
          "name": "stdout",
          "output_type": "stream",
          "text": [
            "Epoch 7/50, Train Loss: 0.0074, Val Loss: 0.0534\n",
            "Learning Rate adjusted to: 1e-05\n"
          ]
        },
        {
          "name": "stderr",
          "output_type": "stream",
          "text": [
            "Training Progress:  16%|█▌        | 8/50 [01:41<08:46, 12.54s/it]"
          ]
        },
        {
          "name": "stdout",
          "output_type": "stream",
          "text": [
            "Epoch 8/50, Train Loss: 0.0068, Val Loss: 0.0410\n",
            "Learning Rate adjusted to: 1e-05\n",
            "Model improved and saved as 20240502104053_epoch_8_val_loss_0.0410.pt\n"
          ]
        },
        {
          "name": "stderr",
          "output_type": "stream",
          "text": [
            "Training Progress:  18%|█▊        | 9/50 [01:53<08:33, 12.51s/it]"
          ]
        },
        {
          "name": "stdout",
          "output_type": "stream",
          "text": [
            "Epoch 9/50, Train Loss: 0.0069, Val Loss: 0.0422\n",
            "Learning Rate adjusted to: 1e-05\n"
          ]
        },
        {
          "name": "stderr",
          "output_type": "stream",
          "text": [
            "Training Progress:  20%|██        | 10/50 [02:06<08:20, 12.52s/it]"
          ]
        },
        {
          "name": "stdout",
          "output_type": "stream",
          "text": [
            "Epoch 10/50, Train Loss: 0.0060, Val Loss: 0.0497\n",
            "Learning Rate adjusted to: 1e-05\n"
          ]
        },
        {
          "name": "stderr",
          "output_type": "stream",
          "text": [
            "Training Progress:  22%|██▏       | 11/50 [02:18<08:08, 12.52s/it]"
          ]
        },
        {
          "name": "stdout",
          "output_type": "stream",
          "text": [
            "Epoch 11/50, Train Loss: 0.0057, Val Loss: 0.0396\n",
            "Learning Rate adjusted to: 1e-05\n",
            "Model improved and saved as 20240502104130_epoch_11_val_loss_0.0396.pt\n"
          ]
        },
        {
          "name": "stderr",
          "output_type": "stream",
          "text": [
            "Training Progress:  24%|██▍       | 12/50 [02:31<07:55, 12.53s/it]"
          ]
        },
        {
          "name": "stdout",
          "output_type": "stream",
          "text": [
            "Epoch 12/50, Train Loss: 0.0052, Val Loss: 0.0238\n",
            "Learning Rate adjusted to: 1e-05\n",
            "Model improved and saved as 20240502104143_epoch_12_val_loss_0.0238.pt\n"
          ]
        },
        {
          "name": "stderr",
          "output_type": "stream",
          "text": [
            "Training Progress:  26%|██▌       | 13/50 [02:43<07:42, 12.51s/it]"
          ]
        },
        {
          "name": "stdout",
          "output_type": "stream",
          "text": [
            "Epoch 13/50, Train Loss: 0.0046, Val Loss: 0.0298\n",
            "Learning Rate adjusted to: 1e-05\n"
          ]
        },
        {
          "name": "stderr",
          "output_type": "stream",
          "text": [
            "Training Progress:  28%|██▊       | 14/50 [02:56<07:30, 12.52s/it]"
          ]
        },
        {
          "name": "stdout",
          "output_type": "stream",
          "text": [
            "Epoch 14/50, Train Loss: 0.0045, Val Loss: 0.0274\n",
            "Learning Rate adjusted to: 1e-05\n"
          ]
        },
        {
          "name": "stderr",
          "output_type": "stream",
          "text": [
            "Training Progress:  30%|███       | 15/50 [03:08<07:17, 12.50s/it]"
          ]
        },
        {
          "name": "stdout",
          "output_type": "stream",
          "text": [
            "Epoch 15/50, Train Loss: 0.0047, Val Loss: 0.0276\n",
            "Learning Rate adjusted to: 1e-05\n"
          ]
        },
        {
          "name": "stderr",
          "output_type": "stream",
          "text": [
            "Training Progress:  32%|███▏      | 16/50 [03:21<07:04, 12.49s/it]"
          ]
        },
        {
          "name": "stdout",
          "output_type": "stream",
          "text": [
            "Epoch 16/50, Train Loss: 0.0042, Val Loss: 0.0177\n",
            "Learning Rate adjusted to: 1e-05\n",
            "Model improved and saved as 20240502104233_epoch_16_val_loss_0.0177.pt\n"
          ]
        },
        {
          "name": "stderr",
          "output_type": "stream",
          "text": [
            "Training Progress:  34%|███▍      | 17/50 [03:33<06:51, 12.48s/it]"
          ]
        },
        {
          "name": "stdout",
          "output_type": "stream",
          "text": [
            "Epoch 17/50, Train Loss: 0.0038, Val Loss: 0.0113\n",
            "Learning Rate adjusted to: 1e-05\n",
            "Model improved and saved as 20240502104245_epoch_17_val_loss_0.0113.pt\n"
          ]
        },
        {
          "name": "stderr",
          "output_type": "stream",
          "text": [
            "Training Progress:  36%|███▌      | 18/50 [03:45<06:39, 12.48s/it]"
          ]
        },
        {
          "name": "stdout",
          "output_type": "stream",
          "text": [
            "Epoch 18/50, Train Loss: 0.0036, Val Loss: 0.0142\n",
            "Learning Rate adjusted to: 1e-05\n"
          ]
        },
        {
          "name": "stderr",
          "output_type": "stream",
          "text": [
            "Training Progress:  38%|███▊      | 19/50 [03:58<06:26, 12.48s/it]"
          ]
        },
        {
          "name": "stdout",
          "output_type": "stream",
          "text": [
            "Epoch 19/50, Train Loss: 0.0035, Val Loss: 0.0203\n",
            "Learning Rate adjusted to: 1e-05\n"
          ]
        },
        {
          "name": "stderr",
          "output_type": "stream",
          "text": [
            "Training Progress:  40%|████      | 20/50 [04:11<06:15, 12.51s/it]"
          ]
        },
        {
          "name": "stdout",
          "output_type": "stream",
          "text": [
            "Epoch 20/50, Train Loss: 0.0037, Val Loss: 0.0157\n",
            "Learning Rate adjusted to: 1e-05\n"
          ]
        },
        {
          "name": "stderr",
          "output_type": "stream",
          "text": [
            "Training Progress:  42%|████▏     | 21/50 [04:23<06:03, 12.52s/it]"
          ]
        },
        {
          "name": "stdout",
          "output_type": "stream",
          "text": [
            "Epoch 21/50, Train Loss: 0.0030, Val Loss: 0.0122\n",
            "Learning Rate adjusted to: 1e-05\n"
          ]
        },
        {
          "name": "stderr",
          "output_type": "stream",
          "text": [
            "Training Progress:  44%|████▍     | 22/50 [04:36<05:51, 12.55s/it]"
          ]
        },
        {
          "name": "stdout",
          "output_type": "stream",
          "text": [
            "Epoch 22/50, Train Loss: 0.0030, Val Loss: 0.0158\n",
            "Learning Rate adjusted to: 1e-05\n"
          ]
        },
        {
          "name": "stderr",
          "output_type": "stream",
          "text": [
            "Training Progress:  46%|████▌     | 23/50 [04:48<05:39, 12.58s/it]"
          ]
        },
        {
          "name": "stdout",
          "output_type": "stream",
          "text": [
            "Epoch 23/50, Train Loss: 0.0032, Val Loss: 0.0140\n",
            "Learning Rate adjusted to: 5e-06\n"
          ]
        },
        {
          "name": "stderr",
          "output_type": "stream",
          "text": [
            "Training Progress:  48%|████▊     | 24/50 [05:01<05:27, 12.59s/it]"
          ]
        },
        {
          "name": "stdout",
          "output_type": "stream",
          "text": [
            "Epoch 24/50, Train Loss: 0.0024, Val Loss: 0.0139\n",
            "Learning Rate adjusted to: 5e-06\n"
          ]
        },
        {
          "name": "stderr",
          "output_type": "stream",
          "text": [
            "Training Progress:  50%|█████     | 25/50 [05:14<05:15, 12.60s/it]"
          ]
        },
        {
          "name": "stdout",
          "output_type": "stream",
          "text": [
            "Epoch 25/50, Train Loss: 0.0022, Val Loss: 0.0120\n",
            "Learning Rate adjusted to: 5e-06\n"
          ]
        },
        {
          "name": "stderr",
          "output_type": "stream",
          "text": [
            "Training Progress:  52%|█████▏    | 26/50 [05:26<05:02, 12.60s/it]"
          ]
        },
        {
          "name": "stdout",
          "output_type": "stream",
          "text": [
            "Epoch 26/50, Train Loss: 0.0022, Val Loss: 0.0120\n",
            "Learning Rate adjusted to: 5e-06\n"
          ]
        },
        {
          "name": "stderr",
          "output_type": "stream",
          "text": [
            "Training Progress:  54%|█████▍    | 27/50 [05:39<04:50, 12.61s/it]"
          ]
        },
        {
          "name": "stdout",
          "output_type": "stream",
          "text": [
            "Epoch 27/50, Train Loss: 0.0021, Val Loss: 0.0101\n",
            "Learning Rate adjusted to: 5e-06\n",
            "Model improved and saved as 20240502104451_epoch_27_val_loss_0.0101.pt\n"
          ]
        },
        {
          "name": "stderr",
          "output_type": "stream",
          "text": [
            "Training Progress:  56%|█████▌    | 28/50 [05:51<04:37, 12.62s/it]"
          ]
        },
        {
          "name": "stdout",
          "output_type": "stream",
          "text": [
            "Epoch 28/50, Train Loss: 0.0021, Val Loss: 0.0134\n",
            "Learning Rate adjusted to: 5e-06\n"
          ]
        },
        {
          "name": "stderr",
          "output_type": "stream",
          "text": [
            "Training Progress:  58%|█████▊    | 29/50 [06:04<04:24, 12.61s/it]"
          ]
        },
        {
          "name": "stdout",
          "output_type": "stream",
          "text": [
            "Epoch 29/50, Train Loss: 0.0021, Val Loss: 0.0121\n",
            "Learning Rate adjusted to: 5e-06\n"
          ]
        },
        {
          "name": "stderr",
          "output_type": "stream",
          "text": [
            "Training Progress:  60%|██████    | 30/50 [06:17<04:12, 12.63s/it]"
          ]
        },
        {
          "name": "stdout",
          "output_type": "stream",
          "text": [
            "Epoch 30/50, Train Loss: 0.0020, Val Loss: 0.0132\n",
            "Learning Rate adjusted to: 5e-06\n"
          ]
        },
        {
          "name": "stderr",
          "output_type": "stream",
          "text": [
            "Training Progress:  62%|██████▏   | 31/50 [06:29<03:59, 12.63s/it]"
          ]
        },
        {
          "name": "stdout",
          "output_type": "stream",
          "text": [
            "Epoch 31/50, Train Loss: 0.0020, Val Loss: 0.0104\n",
            "Learning Rate adjusted to: 5e-06\n"
          ]
        },
        {
          "name": "stderr",
          "output_type": "stream",
          "text": [
            "Training Progress:  64%|██████▍   | 32/50 [06:42<03:47, 12.64s/it]"
          ]
        },
        {
          "name": "stdout",
          "output_type": "stream",
          "text": [
            "Epoch 32/50, Train Loss: 0.0021, Val Loss: 0.0106\n",
            "Learning Rate adjusted to: 5e-06\n"
          ]
        },
        {
          "name": "stderr",
          "output_type": "stream",
          "text": [
            "Training Progress:  66%|██████▌   | 33/50 [06:55<03:34, 12.63s/it]"
          ]
        },
        {
          "name": "stdout",
          "output_type": "stream",
          "text": [
            "Epoch 33/50, Train Loss: 0.0020, Val Loss: 0.0107\n",
            "Learning Rate adjusted to: 2.5e-06\n"
          ]
        },
        {
          "name": "stderr",
          "output_type": "stream",
          "text": [
            "Training Progress:  68%|██████▊   | 34/50 [07:07<03:22, 12.65s/it]"
          ]
        },
        {
          "name": "stdout",
          "output_type": "stream",
          "text": [
            "Epoch 34/50, Train Loss: 0.0016, Val Loss: 0.0111\n",
            "Learning Rate adjusted to: 2.5e-06\n"
          ]
        },
        {
          "name": "stderr",
          "output_type": "stream",
          "text": [
            "Training Progress:  70%|███████   | 35/50 [07:20<03:09, 12.64s/it]"
          ]
        },
        {
          "name": "stdout",
          "output_type": "stream",
          "text": [
            "Epoch 35/50, Train Loss: 0.0017, Val Loss: 0.0112\n",
            "Learning Rate adjusted to: 2.5e-06\n"
          ]
        },
        {
          "name": "stderr",
          "output_type": "stream",
          "text": [
            "Training Progress:  72%|███████▏  | 36/50 [07:33<02:57, 12.65s/it]"
          ]
        },
        {
          "name": "stdout",
          "output_type": "stream",
          "text": [
            "Epoch 36/50, Train Loss: 0.0017, Val Loss: 0.0128\n",
            "Learning Rate adjusted to: 2.5e-06\n"
          ]
        },
        {
          "name": "stderr",
          "output_type": "stream",
          "text": [
            "Training Progress:  74%|███████▍  | 37/50 [07:45<02:44, 12.65s/it]"
          ]
        },
        {
          "name": "stdout",
          "output_type": "stream",
          "text": [
            "Epoch 37/50, Train Loss: 0.0017, Val Loss: 0.0110\n",
            "Learning Rate adjusted to: 2.5e-06\n"
          ]
        },
        {
          "name": "stderr",
          "output_type": "stream",
          "text": [
            "Training Progress:  76%|███████▌  | 38/50 [07:58<02:31, 12.64s/it]"
          ]
        },
        {
          "name": "stdout",
          "output_type": "stream",
          "text": [
            "Epoch 38/50, Train Loss: 0.0017, Val Loss: 0.0115\n",
            "Learning Rate adjusted to: 2.5e-06\n"
          ]
        },
        {
          "name": "stderr",
          "output_type": "stream",
          "text": [
            "Training Progress:  78%|███████▊  | 39/50 [08:10<02:19, 12.64s/it]"
          ]
        },
        {
          "name": "stdout",
          "output_type": "stream",
          "text": [
            "Epoch 39/50, Train Loss: 0.0017, Val Loss: 0.0116\n",
            "Learning Rate adjusted to: 1.25e-06\n"
          ]
        },
        {
          "name": "stderr",
          "output_type": "stream",
          "text": [
            "Training Progress:  80%|████████  | 40/50 [08:23<02:06, 12.63s/it]"
          ]
        },
        {
          "name": "stdout",
          "output_type": "stream",
          "text": [
            "Epoch 40/50, Train Loss: 0.0015, Val Loss: 0.0114\n",
            "Learning Rate adjusted to: 1.25e-06\n"
          ]
        },
        {
          "name": "stderr",
          "output_type": "stream",
          "text": [
            "Training Progress:  82%|████████▏ | 41/50 [08:36<01:53, 12.64s/it]"
          ]
        },
        {
          "name": "stdout",
          "output_type": "stream",
          "text": [
            "Epoch 41/50, Train Loss: 0.0015, Val Loss: 0.0111\n",
            "Learning Rate adjusted to: 1.25e-06\n"
          ]
        },
        {
          "name": "stderr",
          "output_type": "stream",
          "text": [
            "Training Progress:  84%|████████▍ | 42/50 [08:48<01:41, 12.64s/it]"
          ]
        },
        {
          "name": "stdout",
          "output_type": "stream",
          "text": [
            "Epoch 42/50, Train Loss: 0.0015, Val Loss: 0.0114\n",
            "Learning Rate adjusted to: 1.25e-06\n"
          ]
        },
        {
          "name": "stderr",
          "output_type": "stream",
          "text": [
            "Training Progress:  86%|████████▌ | 43/50 [09:01<01:28, 12.65s/it]"
          ]
        },
        {
          "name": "stdout",
          "output_type": "stream",
          "text": [
            "Epoch 43/50, Train Loss: 0.0015, Val Loss: 0.0111\n",
            "Learning Rate adjusted to: 1.25e-06\n"
          ]
        },
        {
          "name": "stderr",
          "output_type": "stream",
          "text": [
            "Training Progress:  88%|████████▊ | 44/50 [09:14<01:15, 12.66s/it]"
          ]
        },
        {
          "name": "stdout",
          "output_type": "stream",
          "text": [
            "Epoch 44/50, Train Loss: 0.0015, Val Loss: 0.0116\n",
            "Learning Rate adjusted to: 1.25e-06\n"
          ]
        },
        {
          "name": "stderr",
          "output_type": "stream",
          "text": [
            "Training Progress:  90%|█████████ | 45/50 [09:26<01:03, 12.65s/it]"
          ]
        },
        {
          "name": "stdout",
          "output_type": "stream",
          "text": [
            "Epoch 45/50, Train Loss: 0.0015, Val Loss: 0.0112\n",
            "Learning Rate adjusted to: 6.25e-07\n"
          ]
        },
        {
          "name": "stderr",
          "output_type": "stream",
          "text": [
            "Training Progress:  92%|█████████▏| 46/50 [09:39<00:50, 12.65s/it]"
          ]
        },
        {
          "name": "stdout",
          "output_type": "stream",
          "text": [
            "Epoch 46/50, Train Loss: 0.0014, Val Loss: 0.0112\n",
            "Learning Rate adjusted to: 6.25e-07\n"
          ]
        },
        {
          "name": "stderr",
          "output_type": "stream",
          "text": [
            "Training Progress:  94%|█████████▍| 47/50 [09:52<00:37, 12.66s/it]"
          ]
        },
        {
          "name": "stdout",
          "output_type": "stream",
          "text": [
            "Epoch 47/50, Train Loss: 0.0014, Val Loss: 0.0111\n",
            "Learning Rate adjusted to: 6.25e-07\n"
          ]
        },
        {
          "name": "stderr",
          "output_type": "stream",
          "text": [
            "Training Progress:  96%|█████████▌| 48/50 [10:04<00:25, 12.66s/it]"
          ]
        },
        {
          "name": "stdout",
          "output_type": "stream",
          "text": [
            "Epoch 48/50, Train Loss: 0.0014, Val Loss: 0.0109\n",
            "Learning Rate adjusted to: 6.25e-07\n"
          ]
        },
        {
          "name": "stderr",
          "output_type": "stream",
          "text": [
            "Training Progress:  98%|█████████▊| 49/50 [10:17<00:12, 12.65s/it]"
          ]
        },
        {
          "name": "stdout",
          "output_type": "stream",
          "text": [
            "Epoch 49/50, Train Loss: 0.0014, Val Loss: 0.0110\n",
            "Learning Rate adjusted to: 6.25e-07\n"
          ]
        },
        {
          "name": "stderr",
          "output_type": "stream",
          "text": [
            "Training Progress: 100%|██████████| 50/50 [10:30<00:00, 12.60s/it]\n"
          ]
        },
        {
          "name": "stdout",
          "output_type": "stream",
          "text": [
            "Epoch 50/50, Train Loss: 0.0014, Val Loss: 0.0112\n",
            "Learning Rate adjusted to: 6.25e-07\n"
          ]
        },
        {
          "data": {
            "image/png": "[encoded data removed]",
            "text/plain": [
              "<Figure size 1000x500 with 1 Axes>"
            ]
          },
          "metadata": {},
          "output_type": "display_data"
        },
        {
          "name": "stderr",
          "output_type": "stream",
          "text": [
            "<ipython-input-5-463d63db8865>:153: UserWarning: To copy construct from a tensor, it is recommended to use sourceTensor.clone().detach() or sourceTensor.clone().detach().requires_grad_(True), rather than torch.tensor(sourceTensor).\n",
            "  y_val_pred = model(torch.tensor(X_val, dtype=torch.float32).to(device))\n"
          ]
        },
        {
          "data": {
            "image/png": "[encoded data removed]",
            "text/plain": [
              "<Figure size 1200x600 with 1 Axes>"
            ]
          },
          "metadata": {},
          "output_type": "display_data"
        },
        {
          "name": "stdout",
          "output_type": "stream",
          "text": [
            "Original scale predictions: [[ 44.82551 ]\n",
            " [ 44.728397]\n",
            " [ 44.658634]\n",
            " [ 44.121746]\n",
            " [ 43.978603]\n",
            " [ 43.305206]\n",
            " [ 42.540474]\n",
            " [ 41.77735 ]\n",
            " [ 42.92583 ]\n",
            " [ 42.690475]\n",
            " [ 41.872826]\n",
            " [ 42.108902]\n",
            " [ 41.756996]\n",
            " [ 42.032516]\n",
            " [ 42.334152]\n",
            " [ 43.1101  ]\n",
            " [ 42.30535 ]\n",
            " [ 42.548546]\n",
            " [ 43.30357 ]\n",
            " [ 43.18842 ]\n",
            " [ 43.592773]\n",
            " [ 43.84765 ]\n",
            " [ 44.110584]\n",
            " [ 44.654358]\n",
            " [ 44.733932]\n",
            " [ 43.680107]\n",
            " [ 42.32918 ]\n",
            " [ 41.88677 ]\n",
            " [ 41.455242]\n",
            " [ 41.30367 ]\n",
            " [ 41.40844 ]\n",
            " [ 40.995033]\n",
            " [ 41.271877]\n",
            " [ 42.087727]\n",
            " [ 43.942913]\n",
            " [ 44.010757]\n",
            " [ 45.295776]\n",
            " [ 46.099545]\n",
            " [ 46.23767 ]\n",
            " [ 46.64315 ]\n",
            " [ 47.281105]\n",
            " [ 47.315315]\n",
            " [ 47.344803]\n",
            " [ 47.02424 ]\n",
            " [ 47.389076]\n",
            " [ 47.4212  ]\n",
            " [ 47.23783 ]\n",
            " [ 47.480938]\n",
            " [ 47.361584]\n",
            " [ 47.292336]\n",
            " [ 47.352367]\n",
            " [ 47.29619 ]\n",
            " [ 47.034058]\n",
            " [ 46.897797]\n",
            " [ 46.761745]\n",
            " [ 47.296646]\n",
            " [ 47.87317 ]\n",
            " [ 48.20782 ]\n",
            " [ 48.367844]\n",
            " [ 48.377625]\n",
            " [ 47.935516]\n",
            " [ 47.94809 ]\n",
            " [ 48.160835]\n",
            " [ 48.02891 ]\n",
            " [ 47.982403]\n",
            " [ 47.570827]\n",
            " [ 47.371975]\n",
            " [ 46.658897]\n",
            " [ 46.87713 ]\n",
            " [ 46.794464]\n",
            " [ 46.5766  ]\n",
            " [ 45.91595 ]\n",
            " [ 46.2165  ]\n",
            " [ 46.307106]\n",
            " [ 46.33471 ]\n",
            " [ 46.40995 ]\n",
            " [ 46.545387]\n",
            " [ 46.383907]\n",
            " [ 46.4422  ]\n",
            " [ 46.889404]\n",
            " [ 47.63662 ]\n",
            " [ 47.72541 ]\n",
            " [ 47.23051 ]\n",
            " [ 47.83611 ]\n",
            " [ 48.050556]\n",
            " [ 48.057022]\n",
            " [ 48.02469 ]\n",
            " [ 48.030174]\n",
            " [ 48.129757]\n",
            " [ 48.21004 ]\n",
            " [ 48.14405 ]\n",
            " [ 48.477024]\n",
            " [ 48.78378 ]\n",
            " [ 48.823406]\n",
            " [ 48.347908]\n",
            " [ 47.919506]\n",
            " [ 47.863667]\n",
            " [ 50.25675 ]\n",
            " [ 51.290703]\n",
            " [ 51.8582  ]\n",
            " [ 52.148487]\n",
            " [ 52.02391 ]\n",
            " [ 51.81842 ]\n",
            " [ 52.417206]\n",
            " [ 52.140266]\n",
            " [ 52.55553 ]\n",
            " [ 52.770206]\n",
            " [ 52.79348 ]\n",
            " [ 53.496384]\n",
            " [ 54.299355]\n",
            " [ 54.348732]\n",
            " [ 54.165127]\n",
            " [ 53.989517]\n",
            " [ 54.104504]\n",
            " [ 54.28196 ]\n",
            " [ 54.53869 ]\n",
            " [ 54.894634]\n",
            " [ 55.495697]\n",
            " [ 56.158222]\n",
            " [ 56.84223 ]\n",
            " [ 57.137733]\n",
            " [ 57.00363 ]\n",
            " [ 56.254494]\n",
            " [ 55.72645 ]\n",
            " [ 55.13916 ]\n",
            " [ 55.760746]\n",
            " [ 55.85656 ]\n",
            " [ 56.579655]\n",
            " [ 56.313263]\n",
            " [ 55.123234]\n",
            " [ 54.865257]\n",
            " [ 54.836834]\n",
            " [ 55.242535]\n",
            " [ 54.86133 ]\n",
            " [ 54.976612]\n",
            " [ 55.391235]\n",
            " [ 55.21907 ]\n",
            " [ 56.15173 ]\n",
            " [ 56.34366 ]\n",
            " [ 56.934864]\n",
            " [ 57.259346]\n",
            " [ 58.020073]\n",
            " [ 57.48259 ]\n",
            " [ 56.663925]\n",
            " [ 56.157642]\n",
            " [ 56.805557]\n",
            " [ 55.36955 ]\n",
            " [ 54.25736 ]\n",
            " [ 55.84366 ]\n",
            " [ 55.130512]\n",
            " [ 55.599445]\n",
            " [ 55.637085]\n",
            " [ 54.4319  ]\n",
            " [ 54.932148]\n",
            " [ 55.247257]\n",
            " [ 55.192085]\n",
            " [ 54.541195]\n",
            " [ 54.86803 ]\n",
            " [ 54.19383 ]\n",
            " [ 53.782944]\n",
            " [ 53.399677]\n",
            " [ 54.814564]\n",
            " [ 55.494125]\n",
            " [ 52.488674]\n",
            " [ 51.07932 ]\n",
            " [ 51.318848]\n",
            " [ 52.49838 ]\n",
            " [ 52.4904  ]\n",
            " [ 51.469734]\n",
            " [ 49.312225]\n",
            " [ 48.469296]\n",
            " [ 47.70505 ]\n",
            " [ 47.86398 ]\n",
            " [ 48.31255 ]\n",
            " [ 47.00964 ]\n",
            " [ 44.700092]\n",
            " [ 44.695496]\n",
            " [ 43.586414]\n",
            " [ 43.756615]\n",
            " [ 43.44269 ]\n",
            " [ 44.852467]\n",
            " [ 45.122433]\n",
            " [ 44.86414 ]\n",
            " [ 46.147938]\n",
            " [ 44.63605 ]\n",
            " [ 43.574158]\n",
            " [ 42.90256 ]\n",
            " [ 42.47104 ]\n",
            " [ 42.921585]\n",
            " [ 42.914494]\n",
            " [ 43.177746]\n",
            " [ 42.131577]\n",
            " [ 41.652733]\n",
            " [ 41.987934]\n",
            " [ 41.21708 ]\n",
            " [ 40.041912]\n",
            " [ 38.723568]\n",
            " [ 37.323208]\n",
            " [ 38.780376]\n",
            " [ 39.036263]\n",
            " [ 39.21094 ]\n",
            " [ 39.515057]\n",
            " [ 39.26153 ]\n",
            " [ 36.011723]\n",
            " [ 37.028217]\n",
            " [ 37.28931 ]\n",
            " [ 37.79006 ]\n",
            " [ 38.31011 ]\n",
            " [ 38.44857 ]\n",
            " [ 38.284138]\n",
            " [ 37.81369 ]\n",
            " [ 38.28758 ]\n",
            " [ 38.85592 ]\n",
            " [ 39.15196 ]\n",
            " [ 39.57023 ]\n",
            " [ 38.950497]\n",
            " [ 38.817085]\n",
            " [ 38.54336 ]\n",
            " [ 39.47982 ]\n",
            " [ 39.262527]\n",
            " [ 39.141365]\n",
            " [ 41.358967]\n",
            " [ 41.85242 ]\n",
            " [ 41.855064]\n",
            " [ 42.602962]\n",
            " [ 43.497414]\n",
            " [ 43.66712 ]\n",
            " [ 43.061066]\n",
            " [ 42.757965]\n",
            " [ 42.814415]\n",
            " [ 42.96396 ]\n",
            " [ 42.987923]\n",
            " [ 42.9473  ]\n",
            " [ 43.00608 ]\n",
            " [ 42.95845 ]\n",
            " [ 43.229877]\n",
            " [ 43.055477]\n",
            " [ 43.26207 ]\n",
            " [ 43.664967]\n",
            " [ 43.57819 ]\n",
            " [ 43.53762 ]\n",
            " [ 43.37438 ]\n",
            " [ 43.64422 ]\n",
            " [ 43.92731 ]\n",
            " [ 43.91885 ]\n",
            " [ 43.74393 ]\n",
            " [ 43.43615 ]\n",
            " [ 43.226776]\n",
            " [ 44.601757]\n",
            " [ 45.285057]\n",
            " [ 45.57784 ]\n",
            " [ 46.015156]\n",
            " [ 46.51055 ]\n",
            " [ 46.903214]\n",
            " [ 46.90873 ]\n",
            " [ 47.031544]\n",
            " [ 48.48133 ]\n",
            " [ 48.343414]\n",
            " [ 47.664215]\n",
            " [ 47.446407]\n",
            " [ 47.487427]\n",
            " [ 47.541504]\n",
            " [ 47.797523]\n",
            " [ 48.118362]\n",
            " [ 48.53764 ]\n",
            " [ 48.89479 ]\n",
            " [ 48.986225]\n",
            " [ 49.27852 ]\n",
            " [ 49.76646 ]\n",
            " [ 50.0352  ]\n",
            " [ 50.050953]\n",
            " [ 49.985256]\n",
            " [ 49.854534]\n",
            " [ 49.916862]\n",
            " [ 50.034874]\n",
            " [ 50.642513]\n",
            " [ 51.10731 ]\n",
            " [ 51.222076]\n",
            " [ 51.821564]\n",
            " [ 52.006763]\n",
            " [ 51.675076]\n",
            " [ 51.32086 ]\n",
            " [ 51.37547 ]\n",
            " [ 50.625145]\n",
            " [ 52.81612 ]\n",
            " [ 52.531094]\n",
            " [ 52.970013]\n",
            " [ 51.945072]\n",
            " [ 51.24704 ]\n",
            " [ 50.998013]\n",
            " [ 50.472008]\n",
            " [ 49.671307]\n",
            " [ 47.082443]\n",
            " [ 47.39817 ]\n",
            " [ 47.65606 ]\n",
            " [ 47.747   ]\n",
            " [ 47.270775]\n",
            " [ 45.941517]\n",
            " [ 46.663467]\n",
            " [ 45.979893]\n",
            " [ 45.027367]\n",
            " [ 44.959034]\n",
            " [ 44.695396]\n",
            " [ 44.301838]\n",
            " [ 44.571415]\n",
            " [ 43.99343 ]\n",
            " [ 43.71547 ]\n",
            " [ 44.748386]\n",
            " [ 45.9403  ]\n",
            " [ 46.302166]\n",
            " [ 47.447704]\n",
            " [ 48.326057]\n",
            " [ 48.87048 ]\n",
            " [ 48.760933]\n",
            " [ 48.91106 ]\n",
            " [ 48.500446]\n",
            " [ 48.894115]\n",
            " [ 49.918747]\n",
            " [ 50.151882]\n",
            " [ 50.46642 ]\n",
            " [ 50.273033]\n",
            " [ 50.208694]\n",
            " [ 49.7138  ]\n",
            " [ 50.289925]\n",
            " [ 50.438046]\n",
            " [ 49.927593]\n",
            " [ 50.77189 ]\n",
            " [ 50.731045]\n",
            " [ 51.082615]\n",
            " [ 51.045868]\n",
            " [ 50.182972]\n",
            " [ 50.29668 ]\n",
            " [ 50.85762 ]\n",
            " [ 50.779224]\n",
            " [ 50.9447  ]\n",
            " [ 51.36352 ]\n",
            " [ 51.277763]\n",
            " [ 51.095413]\n",
            " [ 51.454906]\n",
            " [ 51.160793]\n",
            " [ 51.720024]\n",
            " [ 52.34246 ]\n",
            " [ 52.249134]\n",
            " [ 52.11398 ]\n",
            " [ 52.146408]\n",
            " [ 52.513012]\n",
            " [ 52.406227]\n",
            " [ 53.80292 ]\n",
            " [ 52.907776]\n",
            " [ 51.49476 ]\n",
            " [ 49.234776]\n",
            " [ 49.637028]\n",
            " [ 49.854042]\n",
            " [ 50.857334]\n",
            " [ 50.52465 ]\n",
            " [ 50.297535]\n",
            " [ 51.760235]\n",
            " [ 50.892345]\n",
            " [ 50.71358 ]\n",
            " [ 51.51102 ]\n",
            " [ 52.66901 ]\n",
            " [ 52.744278]\n",
            " [ 53.27442 ]\n",
            " [ 53.311558]\n",
            " [ 51.577496]\n",
            " [ 51.94106 ]\n",
            " [ 51.81408 ]\n",
            " [ 51.793278]\n",
            " [ 52.713543]\n",
            " [ 52.798576]\n",
            " [ 51.93331 ]\n",
            " [ 52.56978 ]\n",
            " [ 53.463646]\n",
            " [ 53.601414]\n",
            " [ 53.780354]\n",
            " [ 54.059505]\n",
            " [ 55.56433 ]\n",
            " [ 56.04915 ]\n",
            " [ 54.936558]\n",
            " [ 55.00648 ]\n",
            " [ 55.372276]\n",
            " [ 55.84687 ]\n",
            " [ 55.765545]\n",
            " [ 55.286564]\n",
            " [ 55.18168 ]\n",
            " [ 55.210052]\n",
            " [ 55.45024 ]\n",
            " [ 55.341103]\n",
            " [ 55.181858]\n",
            " [ 56.00785 ]\n",
            " [ 56.41725 ]\n",
            " [ 55.286625]\n",
            " [ 55.15011 ]\n",
            " [ 56.714928]\n",
            " [ 56.814716]\n",
            " [ 56.372334]\n",
            " [ 56.905033]\n",
            " [ 57.523045]\n",
            " [ 58.938286]\n",
            " [ 59.085377]\n",
            " [ 59.15797 ]\n",
            " [ 58.835968]\n",
            " [ 59.15759 ]\n",
            " [ 59.3478  ]\n",
            " [ 60.238445]\n",
            " [ 60.437103]\n",
            " [ 61.01814 ]\n",
            " [ 61.279724]\n",
            " [ 61.65867 ]\n",
            " [ 62.40545 ]\n",
            " [ 61.701275]\n",
            " [ 61.307693]\n",
            " [ 62.251022]\n",
            " [ 63.679676]\n",
            " [ 64.53255 ]\n",
            " [ 64.45849 ]\n",
            " [ 64.43767 ]\n",
            " [ 65.007904]\n",
            " [ 65.15656 ]\n",
            " [ 65.52954 ]\n",
            " [ 65.78488 ]\n",
            " [ 66.16623 ]\n",
            " [ 66.10668 ]\n",
            " [ 66.576744]\n",
            " [ 66.95253 ]\n",
            " [ 67.00441 ]\n",
            " [ 66.34131 ]\n",
            " [ 66.04423 ]\n",
            " [ 65.93035 ]\n",
            " [ 66.66601 ]\n",
            " [ 66.59859 ]\n",
            " [ 66.98637 ]\n",
            " [ 66.93624 ]\n",
            " [ 66.54369 ]\n",
            " [ 65.060974]\n",
            " [ 65.7082  ]\n",
            " [ 66.47954 ]\n",
            " [ 67.586334]\n",
            " [ 67.17788 ]\n",
            " [ 67.325325]\n",
            " [ 67.72655 ]\n",
            " [ 67.80485 ]\n",
            " [ 68.68697 ]\n",
            " [ 69.94771 ]\n",
            " [ 70.29499 ]\n",
            " [ 70.29793 ]\n",
            " [ 70.35161 ]\n",
            " [ 70.509476]\n",
            " [ 71.10631 ]\n",
            " [ 71.51158 ]\n",
            " [ 72.46766 ]\n",
            " [ 73.03996 ]\n",
            " [ 73.1463  ]\n",
            " [ 73.56856 ]\n",
            " [ 75.10546 ]\n",
            " [ 74.755714]\n",
            " [ 74.82919 ]\n",
            " [ 75.16269 ]\n",
            " [ 75.73495 ]\n",
            " [ 77.52919 ]\n",
            " [ 77.916504]\n",
            " [ 79.04713 ]\n",
            " [ 78.83637 ]\n",
            " [ 78.33439 ]\n",
            " [ 79.09774 ]\n",
            " [ 79.88453 ]\n",
            " [ 79.66728 ]\n",
            " [ 79.94534 ]\n",
            " [ 80.09452 ]\n",
            " [ 80.19705 ]\n",
            " [ 77.84739 ]\n",
            " [ 79.46302 ]\n",
            " [ 81.43467 ]\n",
            " [ 80.95602 ]\n",
            " [ 78.82576 ]\n",
            " [ 77.36357 ]\n",
            " [ 79.7495  ]\n",
            " [ 80.72951 ]\n",
            " [ 81.17081 ]\n",
            " [ 80.38826 ]\n",
            " [ 80.00249 ]\n",
            " [ 80.532196]\n",
            " [ 81.59121 ]\n",
            " [ 81.44441 ]\n",
            " [ 81.516975]\n",
            " [ 79.916504]\n",
            " [ 81.09015 ]\n",
            " [ 80.806206]\n",
            " [ 79.37486 ]\n",
            " [ 75.315125]\n",
            " [ 73.999306]\n",
            " [ 73.55614 ]\n",
            " [ 70.03336 ]\n",
            " [ 68.0119  ]\n",
            " [ 73.70445 ]\n",
            " [ 73.61754 ]\n",
            " [ 74.982544]\n",
            " [ 73.35267 ]\n",
            " [ 71.64491 ]\n",
            " [ 66.75568 ]\n",
            " [ 70.64728 ]\n",
            " [ 69.17546 ]\n",
            " [ 63.49996 ]\n",
            " [ 68.636925]\n",
            " [ 61.52138 ]\n",
            " [ 63.396595]\n",
            " [ 61.883335]\n",
            " [ 62.27659 ]\n",
            " [ 59.85445 ]\n",
            " [ 57.137306]\n",
            " [ 61.305447]\n",
            " [ 62.202946]\n",
            " [ 63.509167]\n",
            " [ 62.148636]\n",
            " [ 63.16706 ]\n",
            " [ 63.663227]\n",
            " [ 60.997536]\n",
            " [ 61.30399 ]\n",
            " [ 61.18536 ]\n",
            " [ 65.16778 ]\n",
            " [ 66.49622 ]\n",
            " [ 66.987976]\n",
            " [ 67.67667 ]\n",
            " [ 68.71489 ]\n",
            " [ 71.82632 ]\n",
            " [ 71.6683  ]\n",
            " [ 72.44027 ]\n",
            " [ 71.67834 ]\n",
            " [ 70.25265 ]\n",
            " [ 68.59604 ]\n",
            " [ 69.64085 ]\n",
            " [ 69.7105  ]\n",
            " [ 71.00681 ]\n",
            " [ 71.329796]\n",
            " [ 70.88014 ]\n",
            " [ 72.26765 ]\n",
            " [ 73.44293 ]\n",
            " [ 72.45541 ]\n",
            " [ 72.97864 ]\n",
            " [ 74.23837 ]\n",
            " [ 75.09871 ]\n",
            " [ 75.81685 ]\n",
            " [ 77.05265 ]\n",
            " [ 78.13575 ]\n",
            " [ 78.56922 ]\n",
            " [ 77.68253 ]\n",
            " [ 77.49514 ]\n",
            " [ 77.02921 ]\n",
            " [ 79.22221 ]\n",
            " [ 79.09077 ]\n",
            " [ 80.10082 ]\n",
            " [ 79.85105 ]\n",
            " [ 79.9142  ]\n",
            " [ 80.22076 ]\n",
            " [ 79.71129 ]\n",
            " [ 79.88231 ]\n",
            " [ 79.98392 ]\n",
            " [ 80.42065 ]\n",
            " [ 80.82329 ]\n",
            " [ 81.4065  ]\n",
            " [ 80.97366 ]\n",
            " [ 82.368355]\n",
            " [ 83.2376  ]\n",
            " [ 85.23061 ]\n",
            " [ 87.92812 ]\n",
            " [ 85.48544 ]\n",
            " [ 85.6233  ]\n",
            " [ 85.44179 ]\n",
            " [ 88.29408 ]\n",
            " [ 88.62396 ]\n",
            " [ 88.424934]\n",
            " [ 88.43047 ]\n",
            " [ 89.69602 ]\n",
            " [ 92.009224]\n",
            " [ 91.05259 ]\n",
            " [ 91.382904]\n",
            " [ 89.99768 ]\n",
            " [ 90.35365 ]\n",
            " [ 91.39071 ]\n",
            " [ 91.6511  ]\n",
            " [ 91.817406]\n",
            " [ 93.49719 ]\n",
            " [ 93.74649 ]\n",
            " [ 95.22223 ]\n",
            " [ 96.2203  ]\n",
            " [ 96.02516 ]\n",
            " [ 96.640335]\n",
            " [ 96.64175 ]\n",
            " [ 98.46806 ]\n",
            " [ 97.04726 ]\n",
            " [ 97.07077 ]\n",
            " [ 98.19468 ]\n",
            " [ 98.30053 ]\n",
            " [ 97.8004  ]\n",
            " [ 95.114746]\n",
            " [ 92.99553 ]\n",
            " [ 95.19909 ]\n",
            " [ 94.346985]\n",
            " [ 95.17099 ]\n",
            " [ 95.88377 ]\n",
            " [104.84573 ]\n",
            " [108.42836 ]\n",
            " [109.04911 ]\n",
            " [109.51546 ]\n",
            " [112.56801 ]\n",
            " [111.98573 ]\n",
            " [113.02684 ]\n",
            " [111.14038 ]\n",
            " [113.23171 ]\n",
            " [115.96618 ]\n",
            " [116.00227 ]\n",
            " [116.451454]\n",
            " [116.61726 ]\n",
            " [117.33616 ]\n",
            " [118.67042 ]\n",
            " [123.4924  ]\n",
            " [127.151855]\n",
            " [124.96631 ]\n",
            " [126.42366 ]\n",
            " [125.6608  ]\n",
            " [125.39432 ]\n",
            " [128.82387 ]\n",
            " [133.75511 ]\n",
            " [133.64955 ]\n",
            " [124.165985]\n",
            " [121.707375]\n",
            " [115.30461 ]\n",
            " [118.70605 ]\n",
            " [117.089935]\n",
            " [113.96491 ]\n",
            " [115.786354]\n",
            " [116.70361 ]\n",
            " [113.302734]\n",
            " [110.051346]\n",
            " [107.77376 ]\n",
            " [107.82119 ]\n",
            " [111.43155 ]\n",
            " [108.28275 ]\n",
            " [107.06548 ]\n",
            " [110.56079 ]\n",
            " [114.32821 ]\n",
            " [114.03644 ]\n",
            " [115.520775]\n",
            " [117.75052 ]\n",
            " [114.21872 ]\n",
            " [116.890366]\n",
            " [115.33025 ]\n",
            " [116.34499 ]\n",
            " [116.80061 ]\n",
            " [117.70214 ]\n",
            " [124.07947 ]\n",
            " [123.68117 ]\n",
            " [122.48284 ]\n",
            " [121.410416]\n",
            " [121.09487 ]\n",
            " [118.781494]\n",
            " [118.56766 ]\n",
            " [118.13941 ]\n",
            " [117.350655]\n",
            " [116.44384 ]\n",
            " [115.70128 ]\n",
            " [116.99955 ]\n",
            " [113.44423 ]\n",
            " [115.22672 ]\n",
            " [110.41829 ]\n",
            " [109.67432 ]\n",
            " [110.66718 ]\n",
            " [114.692116]\n",
            " [118.32674 ]\n",
            " [118.08176 ]\n",
            " [117.81991 ]\n",
            " [116.11018 ]\n",
            " [119.04874 ]\n",
            " [119.92411 ]\n",
            " [119.99621 ]\n",
            " [120.67253 ]\n",
            " [120.49243 ]\n",
            " [119.52212 ]\n",
            " [119.56358 ]\n",
            " [119.158066]\n",
            " [116.57844 ]\n",
            " [116.34129 ]\n",
            " [117.28294 ]\n",
            " [117.8987  ]\n",
            " [119.382706]\n",
            " [122.55282 ]\n",
            " [122.82243 ]\n",
            " [123.21028 ]\n",
            " [122.62782 ]\n",
            " [123.731476]\n",
            " [124.76418 ]\n",
            " [123.3702  ]\n",
            " [123.11462 ]\n",
            " [123.21536 ]\n",
            " [123.111755]\n",
            " [127.62246 ]\n",
            " [128.58092 ]\n",
            " [129.67442 ]\n",
            " [128.4791  ]\n",
            " [128.17267 ]\n",
            " [132.64381 ]\n",
            " [132.07104 ]\n",
            " [132.47159 ]\n",
            " [136.22017 ]\n",
            " [136.43227 ]\n",
            " [135.04045 ]\n",
            " [134.06387 ]\n",
            " [131.86304 ]\n",
            " [131.55527 ]\n",
            " [128.64087 ]\n",
            " [131.3736  ]\n",
            " [133.09215 ]\n",
            " [130.07272 ]\n",
            " [129.50404 ]\n",
            " [130.75385 ]\n",
            " [130.09247 ]\n",
            " [128.36755 ]\n",
            " [128.34846 ]\n",
            " [131.18295 ]\n",
            " [135.96336 ]\n",
            " [137.96446 ]\n",
            " [142.46852 ]\n",
            " [143.09189 ]\n",
            " [142.78009 ]\n",
            " [138.98549 ]\n",
            " [134.75246 ]\n",
            " [135.63196 ]\n",
            " [136.91422 ]\n",
            " [136.24425 ]\n",
            " [138.32497 ]\n",
            " [138.2336  ]\n",
            " [137.85036 ]\n",
            " [137.47993 ]\n",
            " [136.80447 ]\n",
            " [136.33412 ]\n",
            " [135.81667 ]\n",
            " [134.6184  ]\n",
            " [131.46841 ]\n",
            " [129.88142 ]\n",
            " [130.36215 ]\n",
            " [127.40059 ]\n",
            " [125.77326 ]\n",
            " [126.03952 ]\n",
            " [123.596085]\n",
            " [123.02705 ]\n",
            " [127.022675]\n",
            " [126.66836 ]\n",
            " [123.48553 ]\n",
            " [121.17347 ]\n",
            " [121.56071 ]\n",
            " [118.5672  ]\n",
            " [121.02553 ]\n",
            " [121.14402 ]\n",
            " [122.70777 ]\n",
            " [121.42244 ]\n",
            " [123.799194]\n",
            " [126.40154 ]\n",
            " [125.368484]\n",
            " [122.49572 ]\n",
            " [121.448654]\n",
            " [123.733925]\n",
            " [124.1683  ]\n",
            " [122.46417 ]\n",
            " [121.63364 ]\n",
            " [122.05648 ]\n",
            " [122.805016]\n",
            " [121.322845]\n",
            " [123.306786]\n",
            " [124.291016]\n",
            " [126.095215]\n",
            " [126.944664]\n",
            " [127.7348  ]\n",
            " [130.26454 ]\n",
            " [132.29303 ]\n",
            " [132.13623 ]\n",
            " [134.34348 ]\n",
            " [133.9217  ]\n",
            " [135.38771 ]\n",
            " [135.355   ]\n",
            " [135.64938 ]\n",
            " [135.13446 ]\n",
            " [134.58241 ]\n",
            " [133.8781  ]\n",
            " [135.0391  ]\n",
            " [135.91481 ]\n",
            " [135.70258 ]\n",
            " [134.78708 ]\n",
            " [135.29007 ]\n",
            " [132.42091 ]\n",
            " [133.10925 ]\n",
            " [129.65305 ]\n",
            " [129.19449 ]\n",
            " [129.60982 ]\n",
            " [130.88927 ]\n",
            " [128.25491 ]\n",
            " [125.75355 ]\n",
            " [123.73221 ]\n",
            " [125.51894 ]\n",
            " [127.5161  ]\n",
            " [126.85724 ]\n",
            " [125.93286 ]\n",
            " [124.69386 ]\n",
            " [127.00569 ]\n",
            " [126.70337 ]\n",
            " [127.31039 ]\n",
            " [127.838   ]\n",
            " [127.64326 ]\n",
            " [126.722664]\n",
            " [126.0384  ]\n",
            " [125.7955  ]\n",
            " [125.98073 ]\n",
            " [125.1305  ]\n",
            " [126.48642 ]\n",
            " [127.15127 ]\n",
            " [127.92942 ]\n",
            " [128.20993 ]\n",
            " [127.46485 ]\n",
            " [127.9353  ]\n",
            " [130.37389 ]\n",
            " [130.58716 ]\n",
            " [130.96689 ]\n",
            " [131.93715 ]\n",
            " [131.48299 ]\n",
            " [132.49242 ]\n",
            " [134.27855 ]\n",
            " [134.74304 ]\n",
            " [134.88414 ]\n",
            " [134.447   ]\n",
            " [135.52716 ]\n",
            " [136.8864  ]\n",
            " [137.73228 ]\n",
            " [137.94429 ]\n",
            " [140.12862 ]\n",
            " [142.21034 ]\n",
            " [144.84581 ]\n",
            " [143.45815 ]\n",
            " [145.07587 ]\n",
            " [145.81557 ]\n",
            " [146.10675 ]\n",
            " [149.60472 ]\n",
            " [149.58038 ]\n",
            " [148.23639 ]\n",
            " [144.17732 ]\n",
            " [146.5623  ]\n",
            " [146.69536 ]\n",
            " [147.774   ]\n",
            " [149.18231 ]\n",
            " [149.59566 ]\n",
            " [148.31633 ]\n",
            " [145.79727 ]\n",
            " [146.15067 ]\n",
            " [146.03682 ]\n",
            " [146.41339 ]\n",
            " [147.3749  ]\n",
            " [147.5951  ]\n",
            " [147.56508 ]\n",
            " [146.84634 ]\n",
            " [146.77438 ]\n",
            " [146.6706  ]\n",
            " [146.80403 ]\n",
            " [148.85324 ]\n",
            " [149.86829 ]\n",
            " [150.82716 ]\n",
            " [150.95357 ]\n",
            " [148.52193 ]\n",
            " [147.28032 ]\n",
            " [149.03273 ]\n",
            " [150.41382 ]\n",
            " [150.79239 ]\n",
            " [150.03397 ]\n",
            " [149.07549 ]\n",
            " [149.37013 ]\n",
            " [152.72578 ]\n",
            " [153.03362 ]\n",
            " [153.72237 ]\n",
            " [154.65746 ]\n",
            " [155.0371  ]\n",
            " [156.98785 ]\n",
            " [156.5738  ]\n",
            " [155.56354 ]\n",
            " [152.38507 ]\n",
            " [151.37694 ]\n",
            " [150.47876 ]\n",
            " [150.38098 ]\n",
            " [150.04996 ]\n",
            " [148.34917 ]\n",
            " [144.60338 ]\n",
            " [144.86172 ]\n",
            " [146.38509 ]\n",
            " [147.42722 ]\n",
            " [147.00163 ]\n",
            " [145.7074  ]\n",
            " [142.99663 ]\n",
            " [143.31265 ]\n",
            " [142.82971 ]\n",
            " [142.8438  ]\n",
            " [140.79984 ]\n",
            " [141.57088 ]\n",
            " [142.12561 ]\n",
            " [144.28297 ]\n",
            " [144.25725 ]\n",
            " [143.78879 ]\n",
            " [143.1698  ]\n",
            " [142.15535 ]\n",
            " [144.38739 ]\n",
            " [145.59084 ]\n",
            " [146.50151 ]\n",
            " [148.9978  ]\n",
            " [149.92523 ]\n",
            " [150.22643 ]\n",
            " [150.29008 ]\n",
            " [150.05821 ]\n",
            " [150.85081 ]\n",
            " [150.5471  ]\n",
            " [153.10364 ]\n",
            " [150.45337 ]\n",
            " [150.42314 ]\n",
            " [151.09299 ]\n",
            " [152.42621 ]\n",
            " [152.49603 ]\n",
            " [152.6882  ]\n",
            " [151.99394 ]\n",
            " [151.7582  ]\n",
            " [149.71542 ]\n",
            " [149.27536 ]\n",
            " [150.31158 ]\n",
            " [150.9752  ]\n",
            " [151.39099 ]\n",
            " [153.45567 ]\n",
            " [157.03023 ]\n",
            " [159.93295 ]\n",
            " [161.91356 ]\n",
            " [161.72    ]\n",
            " [162.1349  ]\n",
            " [158.94167 ]\n",
            " [161.22119 ]\n",
            " [164.72203 ]\n",
            " [167.06802 ]\n",
            " [163.52487 ]\n",
            " [164.12328 ]\n",
            " [166.73604 ]\n",
            " [171.79852 ]\n",
            " [175.23349 ]\n",
            " [175.79887 ]\n",
            " [178.85147 ]\n",
            " [178.56152 ]\n",
            " [175.76495 ]\n",
            " [178.71338 ]\n",
            " [175.90936 ]\n",
            " [172.35161 ]\n",
            " [170.94978 ]\n",
            " [173.98956 ]\n",
            " [176.18846 ]\n",
            " [177.43704 ]\n",
            " [180.1549  ]\n",
            " [180.34729 ]\n",
            " [180.13379 ]\n",
            " [179.49744 ]\n",
            " [178.58986 ]\n",
            " [181.17578 ]\n",
            " [181.10538 ]\n",
            " [177.28943 ]\n",
            " [173.5102  ]\n",
            " [173.66144 ]\n",
            " [172.5909  ]\n",
            " [175.42642 ]\n",
            " [176.94925 ]\n",
            " [174.86401 ]\n",
            " [173.81334 ]\n",
            " [171.62834 ]\n",
            " [168.68483 ]\n",
            " [166.56743 ]\n",
            " [164.23576 ]\n",
            " [161.80699 ]\n",
            " [160.63048 ]\n",
            " [161.8692  ]\n",
            " [161.23698 ]\n",
            " [168.99861 ]\n",
            " [173.24947 ]\n",
            " [174.47261 ]\n",
            " [175.76384 ]\n",
            " [174.20934 ]\n",
            " [173.16748 ]\n",
            " [173.29216 ]\n",
            " [175.1367  ]\n",
            " [177.658   ]\n",
            " [174.86832 ]\n",
            " [172.30699 ]\n",
            " [171.0285  ]\n",
            " [174.68393 ]]\n"
          ]
        }
      ],
      "source": [
        "import torch\n",
        "import torch.optim as optim\n",
        "from torch.utils.data import DataLoader, TensorDataset\n",
        "from tqdm import tqdm\n",
        "import matplotlib.pyplot as plt\n",
        "import time\n",
        "import sys\n",
        "import torch.nn.functional as F\n",
        "\n",
        "\n",
        "best_val_loss = float('inf')\n",
        "\n",
        "class CombinedLoss(torch.nn.Module):\n",
        "    def __init__(self, quantile=0.5):\n",
        "        super().__init__()\n",
        "        self.quantile = quantile\n",
        "\n",
        "    def quantile_loss(self, y_pred, y_true):\n",
        "        error = y_true - y_pred\n",
        "        return torch.mean(torch.max(self.quantile * error, (self.quantile - 1) * error))\n",
        "\n",
        "    # def trend_loss(self, y_pred, y_true):\n",
        "    #     if y_pred.ndim == 0 or y_true.ndim == 0 or len(y_pred) < 2:\n",
        "    #         return torch.tensor(0.0).to(y_pred.device)\n",
        "    #     trend_pred = torch.sign(y_pred[1:] - y_pred[:-1])\n",
        "    #     trend_true = torch.sign(y_true[1:] - y_true[:-1])\n",
        "    #     trend_disagreement = torch.mean((trend_pred != trend_true).float())\n",
        "    #     return trend_disagreement\n",
        "\n",
        "    def forward(self, y_pred, y_true):\n",
        "        y_pred = y_pred.squeeze()\n",
        "\n",
        "        y_true = y_true.squeeze()\n",
        "\n",
        "        mse_loss = torch.nn.functional.mse_loss(y_pred, y_true) * 0.05\n",
        "        smooth_l1_loss = F.smooth_l1_loss(y_pred, y_true) * 0.1\n",
        "        mae_loss = torch.nn.functional.l1_loss(y_pred, y_true) * 0.45\n",
        "        quantile_loss = self.quantile_loss(y_pred, y_true) * 0.4\n",
        "        # trend_loss = self.trend_loss(y_pred, y_true) * 0.05\n",
        "\n",
        "        return mse_loss + smooth_l1_loss + mae_loss + quantile_loss\n",
        "\n",
        "\n",
        "def check_gradients(model):\n",
        "    for name, param in model.named_parameters():\n",
        "        if param.grad is not None:\n",
        "            grad_norm = torch.norm(param.grad)\n",
        "            if torch.isnan(grad_norm) or torch.isinf(grad_norm):\n",
        "                print(f\"Gradient for {name} is NaN or inf.\")\n",
        "\n",
        "def train_model(model, X_train, y_train, X_val, y_val, num_epochs=50, batch_size=4, learning_rate=0.00001, weight_decay = 0.01):\n",
        "\n",
        "    # orig_stdout = sys.stdout\n",
        "    # f = open('result.log', 'w')\n",
        "    # sys.stdout = f\n",
        "\n",
        "    global best_val_loss\n",
        "\n",
        "    device = torch.device(\"cuda\" if torch.cuda.is_available() else \"cpu\")\n",
        "\n",
        "    X_train = torch.tensor(X_train, dtype=torch.float32).to(device)\n",
        "    y_train = torch.tensor(y_train, dtype=torch.float32).unsqueeze(1).to(device)\n",
        "    X_val = torch.tensor(X_val, dtype=torch.float32).to(device)\n",
        "    y_val = torch.tensor(y_val, dtype=torch.float32).unsqueeze(1).to(device)\n",
        "\n",
        "\n",
        "    # model_path = ''\n",
        "    # model = StockPredictor(n_features=16, n_hidden=128, seq_len=100, n_layers=3)\n",
        "    # model.load_state_dict(torch.load(model_path, map_location=device))\n",
        "\n",
        "    model.to(device)\n",
        "    train_loader = DataLoader(TensorDataset(X_train, y_train), batch_size=batch_size, shuffle=True)\n",
        "    val_loader = DataLoader(TensorDataset(X_val, y_val), batch_size=batch_size, shuffle=False)\n",
        "    combined_loss_fn = CombinedLoss()\n",
        "    optimizer = optim.Adam(model.parameters(), lr=learning_rate, weight_decay=weight_decay)\n",
        "    scheduler = torch.optim.lr_scheduler.ReduceLROnPlateau(optimizer, mode='min', factor=0.5, patience=5)\n",
        "\n",
        "    train_losses = []\n",
        "    val_losses = []\n",
        "\n",
        "    for epoch in tqdm(range(num_epochs), desc=\"Training Progress\"):\n",
        "        model.train()\n",
        "        total_train_loss = 0\n",
        "\n",
        "        for x_batch, y_batch in train_loader:\n",
        "            # print(\"Input data stats:\", x_batch.min(), x_batch.max(), x_batch.mean())\n",
        "            optimizer.zero_grad()\n",
        "            y_pred = model(x_batch)\n",
        "            # print(\"Output stats:\", y_pred.data.min(), y_pred.data.max(), y_pred.data.mean())\n",
        "            loss = combined_loss_fn(y_pred, y_batch)\n",
        "            # print(\"Loss:\", loss.item())\n",
        "            loss.backward()\n",
        "\n",
        "            nan_gradients = False\n",
        "            for name, param in model.named_parameters():\n",
        "                if param.grad is not None and (torch.isnan(param.grad).any() or torch.isinf(param.grad).any()):\n",
        "                    print(f\"NaN or Inf in gradients of {name}\")\n",
        "                    nan_gradients = True\n",
        "\n",
        "            if nan_gradients:\n",
        "                print(\"NaN or Inf gradients detected. Exiting training loop.\")\n",
        "                break\n",
        "\n",
        "            check_gradients(model)\n",
        "            torch.nn.utils.clip_grad_norm_(model.parameters(), max_norm=1.0)  # 梯度裁剪\n",
        "            optimizer.step()\n",
        "            total_train_loss += loss.item() * x_batch.size(0)\n",
        "\n",
        "        avg_train_loss = total_train_loss / len(X_train)\n",
        "        train_losses.append(avg_train_loss)\n",
        "\n",
        "        model.eval()\n",
        "        total_val_loss = 0\n",
        "        with torch.no_grad():\n",
        "            for x_batch, y_batch in val_loader:\n",
        "                y_pred = model(x_batch)\n",
        "                loss = combined_loss_fn(y_pred, y_batch)\n",
        "                total_val_loss += loss.item() * x_batch.size(0)\n",
        "\n",
        "        avg_val_loss = total_val_loss / len(X_val)\n",
        "        val_losses.append(avg_val_loss)\n",
        "        tqdm.write(f'Epoch {epoch+1}/{num_epochs}, Train Loss: {avg_train_loss:.4f}, Val Loss: {avg_val_loss:.4f}')\n",
        "\n",
        "        scheduler.step(avg_val_loss)\n",
        "        current_lr = optimizer.param_groups[0]['lr']\n",
        "        print(f\"Learning Rate adjusted to: {current_lr}\")\n",
        "\n",
        "        if avg_val_loss < best_val_loss:\n",
        "            best_val_loss = avg_val_loss\n",
        "            current_time = time.strftime(\"%Y%m%d%H%M%S\", time.localtime())\n",
        "            model_name = f\"{current_time}_epoch_{epoch+1}_val_loss_{avg_val_loss:.4f}.pt\"\n",
        "            torch.save(model.state_dict(), model_name)\n",
        "            print(f\"Model improved and saved as {model_name}\")\n",
        "\n",
        "    plt.figure(figsize=(10, 5))\n",
        "    plt.plot(train_losses, label='Train Loss')\n",
        "    plt.plot(val_losses, label='Validation Loss')\n",
        "    plt.title('Training and Validation Losses')\n",
        "    plt.xlabel('Epochs')\n",
        "    plt.ylabel('Loss')\n",
        "    plt.legend()\n",
        "    plt.savefig('training_validation_losses.png')\n",
        "    plt.show()\n",
        "\n",
        "    import matplotlib.dates as mdates\n",
        "\n",
        "    data_path = 'filtered_stock_data.csv'\n",
        "    df = pd.read_csv(data_path, header=0, parse_dates=['Date'])\n",
        "\n",
        "    original_open_values = df['Open'].values\n",
        "    dates = df['Date'].values\n",
        "\n",
        "    y_val_pred = model(torch.tensor(X_val, dtype=torch.float32).to(device))\n",
        "    y_val_pred = y_val_pred.cpu().detach().numpy()\n",
        "    y_val_pred_rescaled = scaler_y.inverse_transform(y_val_pred.reshape(-1, 1))\n",
        "\n",
        "    # get the validation dates\n",
        "    validation_start_date = pd.Timestamp('2017-10-19')\n",
        "    validation_end_date = pd.Timestamp('2021-09-24')\n",
        "    validation_dates = df[(df['Date'] >= validation_start_date) & (df['Date'] <= validation_end_date)]['Date']\n",
        "\n",
        "    # get the validation open values\n",
        "    validation_open_values = df[(df['Date'] >= validation_start_date) & (df['Date'] <= validation_end_date)]['Open']\n",
        "\n",
        "    # plot the original and predicted values\n",
        "    plt.figure(figsize=(12, 6))\n",
        "    plt.gca().xaxis.set_major_locator(mdates.AutoDateLocator())\n",
        "    plt.gca().xaxis.set_major_formatter(mdates.DateFormatter('%Y-%m-%d'))\n",
        "    plt.plot(validation_dates, validation_open_values, color='orange', label='Original Open Values')\n",
        "    plt.plot(validation_dates, y_val_pred_rescaled, color='blue', label='Predicted Values')\n",
        "    plt.title('Inverse Normalized Predictions vs. Original Open Prices')\n",
        "    plt.xlabel('Date')\n",
        "    plt.ylabel('Open Price')\n",
        "    plt.legend()\n",
        "    plt.gcf().autofmt_xdate()\n",
        "    plt.savefig('inverse_normalized_predictions_with_original.png')\n",
        "    plt.show()\n",
        "\n",
        "    print(\"Original scale predictions:\", y_val_pred_rescaled)\n",
        "\n",
        "      # sys.stdout = orig_stdout\n",
        "      # f.close()\n",
        "\n",
        "train_model(model, X_train, y_train, X_val, y_val)\n"
      ]
    },
    {
      "cell_type": "code",
      "execution_count": 6,
      "metadata": {
        "colab": {
          "base_uri": "https://localhost:8080/",
          "height": 566
        },
        "id": "gZbyRKXQTcSe",
        "outputId": "e48bc1c5-01c8-4ed7-840b-893df048de7b"
      },
      "outputs": [
        {
          "name": "stdout",
          "output_type": "stream",
          "text": [
            "Test MAPE: 1.2051%\n"
          ]
        },
        {
          "data": {
            "image/png": "[encoded data removed]",
            "text/plain": [
              "<Figure size 1200x600 with 1 Axes>"
            ]
          },
          "metadata": {},
          "output_type": "display_data"
        }
      ],
      "source": [
        "import torch\n",
        "from torch.utils.data import DataLoader, TensorDataset\n",
        "import pandas as pd\n",
        "import matplotlib.pyplot as plt\n",
        "import matplotlib.dates as mdates\n",
        "\n",
        "device = torch.device(\"cuda\" if torch.cuda.is_available() else \"cpu\")\n",
        "\n",
        "model_path = '/content/20240502104451_epoch_27_val_loss_0.0101.pt'\n",
        "model = StockPredictor(n_features=16, n_hidden=128, seq_len=100, n_layers=3)\n",
        "model.load_state_dict(torch.load(model_path, map_location=device))\n",
        "model.to(device)\n",
        "model.eval()\n",
        "\n",
        "data_path = '/content/filtered_stock_data.csv'\n",
        "df = pd.read_csv(data_path, parse_dates=['Date'])\n",
        "\n",
        "test_dates = df[(df['Date'] >= pd.Timestamp('2021-09-27')) & (df['Date'] <= pd.Timestamp('2023-12-01'))]['Date']\n",
        "test_open_values = df[(df['Date'] >= pd.Timestamp('2021-09-27')) & (df['Date'] <= pd.Timestamp('2023-12-01'))]['Open'].values\n",
        "\n",
        "X_test_tensor = X_test.clone().detach().to(device)\n",
        "y_test_tensor = y_test.clone().detach().to(device)\n",
        "\n",
        "test_dataset = TensorDataset(X_test_tensor, y_test_tensor)\n",
        "test_loader = DataLoader(test_dataset, batch_size=4, shuffle=False)\n",
        "\n",
        "predictions_list = []\n",
        "total_mape = 0.0\n",
        "num_samples = 0\n",
        "epsilon = 1e-8\n",
        "\n",
        "with torch.no_grad():\n",
        "    for X_test_batch, y_test_batch in test_loader:\n",
        "        predictions = model(X_test_batch)\n",
        "        predictions_list.append(predictions.cpu().numpy())\n",
        "\n",
        "        # calculate MAPE\n",
        "        absolute_errors = torch.abs(predictions - y_test_batch.unsqueeze(1))\n",
        "        relative_errors = absolute_errors / (y_test_batch.unsqueeze(1) + epsilon)\n",
        "        mape = torch.mean(relative_errors).item() * 100\n",
        "        total_mape += mape * X_test_batch.size(0)\n",
        "        num_samples += X_test_batch.size(0)\n",
        "\n",
        "predictions_array = np.concatenate(predictions_list).flatten()\n",
        "predictions_rescaled = scaler_y.inverse_transform(predictions_array.reshape(-1, 1))\n",
        "\n",
        "# calculate total MAPE\n",
        "average_mape = total_mape / num_samples\n",
        "print(f'Test MAPE: {average_mape:.4f}%')\n",
        "\n",
        "plt.figure(figsize=(12, 6))\n",
        "plt.gca().xaxis.set_major_locator(mdates.AutoDateLocator())\n",
        "plt.gca().xaxis.set_major_formatter(mdates.DateFormatter('%Y-%m-%d'))\n",
        "plt.plot(test_dates, test_open_values, color='orange', label='Test Ground Truth (Open)')\n",
        "plt.plot(test_dates, predictions_rescaled, color='blue', label='Model Predictions')\n",
        "plt.title('Test Predictions vs. Actual Open Prices')\n",
        "plt.xlabel('Date')\n",
        "plt.ylabel('Open Price')\n",
        "plt.legend()\n",
        "plt.gcf().autofmt_xdate()  # rotate x-axis labels for better readability\n",
        "plt.show()"
      ]
    }
  ],
  "metadata": {
    "accelerator": "GPU",
    "colab": {
      "gpuType": "A100",
      "provenance": []
    },
    "kernelspec": {
      "display_name": "Python 3",
      "name": "python3"
    },
    "language_info": {
      "name": "python"
    }
  },
  "nbformat": 4,
  "nbformat_minor": 0
}
